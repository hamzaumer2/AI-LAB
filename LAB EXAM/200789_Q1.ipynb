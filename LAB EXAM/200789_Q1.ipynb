{
 "cells": [
  {
   "cell_type": "code",
   "execution_count": 34,
   "metadata": {},
   "outputs": [
    {
     "name": "stdout",
     "output_type": "stream",
     "text": [
      "Going towards banana...\n",
      "Climbing on chair...\n",
      "Picking up banana...\n",
      "Climbing down chair...\n",
      "Executing plan...\n",
      "OBSTACLE!!!\n"
     ]
    },
    {
     "ename": "NameError",
     "evalue": "name 'update_plan' is not defined",
     "output_type": "error",
     "traceback": [
      "\u001b[0;31m---------------------------------------------------------------------------\u001b[0m",
      "\u001b[0;31mNameError\u001b[0m                                 Traceback (most recent call last)",
      "\u001b[0;32m/tmp/ipykernel_19986/1010701572.py\u001b[0m in \u001b[0;36m<module>\u001b[0;34m\u001b[0m\n\u001b[1;32m     45\u001b[0m     \u001b[0;32mif\u001b[0m \u001b[0mobstacle_encountered\u001b[0m\u001b[0;34m:\u001b[0m\u001b[0;34m\u001b[0m\u001b[0;34m\u001b[0m\u001b[0m\n\u001b[1;32m     46\u001b[0m         \u001b[0mprint\u001b[0m\u001b[0;34m(\u001b[0m\u001b[0;34m\"OBSTACLE!!!\"\u001b[0m\u001b[0;34m)\u001b[0m\u001b[0;34m\u001b[0m\u001b[0;34m\u001b[0m\u001b[0m\n\u001b[0;32m---> 47\u001b[0;31m         \u001b[0mupdate_plan\u001b[0m\u001b[0;34m(\u001b[0m\u001b[0;34m)\u001b[0m\u001b[0;34m\u001b[0m\u001b[0;34m\u001b[0m\u001b[0m\n\u001b[0m\u001b[1;32m     48\u001b[0m         \u001b[0mexecute_plan\u001b[0m\u001b[0;34m(\u001b[0m\u001b[0;34m)\u001b[0m\u001b[0;34m\u001b[0m\u001b[0;34m\u001b[0m\u001b[0m\n\u001b[1;32m     49\u001b[0m     \u001b[0;32melse\u001b[0m\u001b[0;34m:\u001b[0m\u001b[0;34m\u001b[0m\u001b[0;34m\u001b[0m\u001b[0m\n",
      "\u001b[0;31mNameError\u001b[0m: name 'update_plan' is not defined"
     ]
    }
   ],
   "source": [
    "def get_percept(loc, state_space):\n",
    "    loc, state_space= rule_action(loc, state_space)\n",
    "    return loc, state_space\n",
    "\n",
    "def goalTest(final, goal_state):\n",
    "    if final==goal_state:\n",
    "        return True\n",
    "    else:\n",
    "        return False\n",
    "\n",
    "\n",
    "def rule_action(loc, state_space):\n",
    "    if state_space[loc] == 0:\n",
    "        print(\"No Obstacle\")\n",
    "        loc+=1\n",
    "        return loc, state_space\n",
    "    elif state_space[loc] == 2:\n",
    "        print(\"Going up the chair\")\n",
    "        state_space[loc]-=1\n",
    "        loc+=1\n",
    "        return loc, state_space\n",
    "    elif state_space[loc] == 1:\n",
    "        print(\"Going down the chair\")\n",
    "        state_space[loc]-=1\n",
    "        return loc, state_space\n",
    "    else:\n",
    "        print(\"Banana Found, Goal Achieved :)\")\n",
    "        state_space[loc]-=3\n",
    "        loc+=1\n",
    "        goal = True\n",
    "        return loc, state_space\n",
    "\n",
    "\n",
    "state_space=[0,2,0,3]\n",
    "goal_state= [0,0,0,0]\n",
    "goal=False\n",
    "path_cost= 0\n",
    "start_loc= 0\n",
    "\n",
    "while goal==False:\n",
    "    goal= goalTest(state_space, goal_state)\n",
    "    if goal==True:\n",
    "        break\n",
    "    else:\n",
    "        start_loc, state_space= get_percept(start_loc, state_space)"
   ]
  },
  {
   "cell_type": "code",
   "execution_count": null,
   "metadata": {},
   "outputs": [],
   "source": []
  }
 ],
 "metadata": {
  "kernelspec": {
   "display_name": "base",
   "language": "python",
   "name": "python3"
  },
  "language_info": {
   "codemirror_mode": {
    "name": "ipython",
    "version": 3
   },
   "file_extension": ".py",
   "mimetype": "text/x-python",
   "name": "python",
   "nbconvert_exporter": "python",
   "pygments_lexer": "ipython3",
   "version": "3.9.13"
  },
  "orig_nbformat": 4
 },
 "nbformat": 4,
 "nbformat_minor": 2
}
