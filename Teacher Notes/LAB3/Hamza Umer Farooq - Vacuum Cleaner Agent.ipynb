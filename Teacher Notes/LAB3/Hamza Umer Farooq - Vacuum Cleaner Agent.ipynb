{
 "cells": [
  {
   "cell_type": "markdown",
   "id": "884fa3c6",
   "metadata": {},
   "source": [
    "# Simple Reflexive Agent\n",
    "\n"
   ]
  },
  {
   "cell_type": "code",
   "execution_count": 18,
   "id": "f00e5377",
   "metadata": {},
   "outputs": [],
   "source": [
    "import random"
   ]
  },
  {
   "cell_type": "code",
   "execution_count": 19,
   "id": "11b60c15",
   "metadata": {},
   "outputs": [],
   "source": [
    "def rule_match(loc, state):\n",
    "    if state==1:\n",
    "        print(\"suck the dirt\")\n",
    "    elif loc==\"A\":\n",
    "        print(\"state is clean, move to B\")\n",
    "    elif loc==\"B\":\n",
    "        print(\"state is clean, move to A\")\n"
   ]
  },
  {
   "cell_type": "code",
   "execution_count": 20,
   "id": "b4018c05",
   "metadata": {},
   "outputs": [],
   "source": [
    "def input_percept(loc, state):\n",
    "    rule_match(loc, state)"
   ]
  },
  {
   "cell_type": "code",
   "execution_count": 70,
   "id": "fd6c5d98",
   "metadata": {},
   "outputs": [
    {
     "name": "stdout",
     "output_type": "stream",
     "text": [
      "enter location from following: A or B\n",
      "enter state from following: 0 or \n",
      "state is clean, move to B\n"
     ]
    }
   ],
   "source": [
    "# location_available=[\"A\",\"B\"]\n",
    "# state_available=[0, 1]\n",
    "print(\"enter location from following: A or B\")\n",
    "loc= input().upper()\n",
    "print(\"enter state from following: 0 or \")\n",
    "state= int(input())\n",
    "input_percept(loc, state)\n"
   ]
  },
  {
   "cell_type": "markdown",
   "id": "e55315f9",
   "metadata": {},
   "source": [
    "### Reflexive Agent"
   ]
  },
  {
   "cell_type": "code",
   "execution_count": 24,
   "id": "61332fcd",
   "metadata": {},
   "outputs": [],
   "source": [
    "def get_percept(loc, state_space):\n",
    "    loc, state_space= rule_action(loc, state_space)\n",
    "    return loc, state_space\n"
   ]
  },
  {
   "cell_type": "code",
   "execution_count": 25,
   "id": "0ec7a56b",
   "metadata": {},
   "outputs": [],
   "source": [
    "def goalTest(resultant_state, goal_state):\n",
    "    if resultant_state==goal_state:\n",
    "        return True\n",
    "    else:\n",
    "        return False\n"
   ]
  },
  {
   "cell_type": "code",
   "execution_count": 7,
   "id": "59dfc063",
   "metadata": {},
   "outputs": [],
   "source": [
    "def rule_action(loc, state_space):\n",
    "    #state=-1\n",
    "    if loc==\"A\":\n",
    "        if state_space[loc]==1:\n",
    "            print(\"suck the dirt\\n\")\n",
    "            state_space[loc]=0\n",
    "            loc=\"B\"\n",
    "            return loc, state_space\n",
    "        else:\n",
    "            print(\"location is clean move to next place\\n\")\n",
    "            loc=\"B\"\n",
    "            #state_space[state]=0\n",
    "            return loc, state_space\n",
    "            \n",
    "    else:\n",
    "        if state_space[loc]==1:\n",
    "            print(\"suck the dirt\\n\")\n",
    "            state_space[loc]=0\n",
    "            loc=\"A\"\n",
    "            return loc, state_space\n",
    "        else:\n",
    "            print(\"location is clean move to next place\\n\")\n",
    "            loc=\"A\"\n",
    "            #state_space[state]=0\n",
    "            return loc, state_space\n"
   ]
  },
  {
   "cell_type": "code",
   "execution_count": 69,
   "id": "cf8746b0",
   "metadata": {},
   "outputs": [
    {
     "name": "stdout",
     "output_type": "stream",
     "text": [
      "the agent is in goal state\n",
      "{'A': 0, 'B': 0}\n"
     ]
    }
   ],
   "source": [
    "state_space={\"A\":1, \"B\":1} # start state\n",
    "goal_state={\"A\":0, \"B\":0} # goal state\n",
    "goal=False\n",
    "path_cost=0\n",
    "state_space[\"A\"]=random.choice([0,1])\n",
    "state_space[\"B\"]=random.choice([0,1])\n",
    "start_loc=random.choice([\"A\", \"B\"])\n",
    "\n",
    "while goal==False:\n",
    "    goal= goalTest(state_space, goal_state)\n",
    "    if goal==True:\n",
    "        break\n",
    "    else:\n",
    "        start_loc, state_space= get_percept(start_loc, state_space)\n",
    "    \n",
    "\n",
    "print (\"the agent is in goal state\")\n",
    "print(state_space)"
   ]
  },
  {
   "cell_type": "markdown",
   "id": "a7a64627",
   "metadata": {},
   "source": [
    "### Random State"
   ]
  },
  {
   "cell_type": "code",
   "execution_count": 27,
   "id": "1ec2a7d1",
   "metadata": {},
   "outputs": [],
   "source": [
    "def random_agent():\n",
    "  percept()"
   ]
  },
  {
   "cell_type": "code",
   "execution_count": null,
   "id": "22982a35",
   "metadata": {},
   "outputs": [],
   "source": [
    "def percept():\n",
    "   loc = input(\"enter location as A or B\")\n",
    "   state= int(input(\"enter state as 0 or 1\"))\n",
    "   action_rule(loc, state)\n"
   ]
  },
  {
   "cell_type": "code",
   "execution_count": 17,
   "id": "48c8430e",
   "metadata": {},
   "outputs": [
    {
     "name": "stdout",
     "output_type": "stream",
     "text": [
      "agent moves to left  title\n"
     ]
    }
   ],
   "source": [
    "def action_rule(loc, state):\n",
    "   actions=['left','right',\"clean_dust\",\"no_action\"]\n",
    "   act = random.choice(actions)\n",
    "\n",
    "   if act ==\"right\":\n",
    "      print(\"agent moves to right title\")\n",
    "   elif act==\"left\":\n",
    "      print(\"agent moves to left title\")\n",
    "   elif act==\"clean\":\n",
    "      print(\"agent performs no action\")\n",
    "   elif act==\"dust\":\n",
    "      print(\"agent removes the dust\")\n",
    "        \n",
    "random_agent()"
   ]
  },
  {
   "cell_type": "code",
   "execution_count": null,
   "id": "194fc033",
   "metadata": {},
   "outputs": [],
   "source": [
    "\n",
    "\n",
    " "
   ]
  },
  {
   "cell_type": "code",
   "execution_count": null,
   "id": "27d19074",
   "metadata": {},
   "outputs": [],
   "source": []
  }
 ],
 "metadata": {
  "kernelspec": {
   "display_name": "Python 3",
   "language": "python",
   "name": "python3"
  },
  "language_info": {
   "codemirror_mode": {
    "name": "ipython",
    "version": 3
   },
   "file_extension": ".py",
   "mimetype": "text/x-python",
   "name": "python",
   "nbconvert_exporter": "python",
   "pygments_lexer": "ipython3",
   "version": "3.10.4"
  },
  "vscode": {
   "interpreter": {
    "hash": "26de051ba29f2982a8de78e945f0abaf191376122a1563185a90213a26c5da77"
   }
  }
 },
 "nbformat": 4,
 "nbformat_minor": 5
}
