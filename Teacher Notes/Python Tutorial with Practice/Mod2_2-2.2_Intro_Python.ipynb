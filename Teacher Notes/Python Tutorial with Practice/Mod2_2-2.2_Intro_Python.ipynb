{
 "cells": [
  {
   "cell_type": "markdown",
   "metadata": {},
   "source": [
    "# 2-2.2 Intro Python\n",
    "## Lists \n",
    "- List Creation\n",
    "- List Access\n",
    "- **List Append**\n",
    "- List Insert\n",
    "- List Delete\n",
    "\n",
    "----- \n",
    "\n",
    "><font size=\"5\" color=\"#00A0B2\"  face=\"verdana\"> <B>Student will be able to</B></font>  \n",
    "- Create Lists\n",
    "- Access items in a list\n",
    "- **Add Items to the end of a list**\n",
    "- Insert items into a list\n",
    "- Delete items from a list"
   ]
  },
  {
   "cell_type": "markdown",
   "metadata": {},
   "source": [
    "# &nbsp;\n",
    "<font size=\"6\" color=\"#00A0B2\"  face=\"verdana\"> <B>Concepts</B></font>\n",
    "## Appending to Lists\n",
    "[![view video](https://iajupyterprodblobs.blob.core.windows.net/imagecontainer/common/play_video.png)]( http://edxinteractivepage.blob.core.windows.net/edxpages/f7cff1a7-5601-48a1-95a6-fd1fdfabd20e.html?details=[{\"src\":\"http://jupyternootbookwams.streaming.mediaservices.windows.net/121939c6-f81e-4787-a7a9-15ab15c69168/Unit2_Section2.2a-Appending_to_Lists.ism/manifest\",\"type\":\"application/vnd.ms-sstr+xml\"}],[{\"src\":\"http://jupyternootbookwams.streaming.mediaservices.windows.net/121939c6-f81e-4787-a7a9-15ab15c69168/Unit2_Section2.2a-Appending_to_Lists.vtt\",\"srclang\":\"en\",\"kind\":\"subtitles\",\"label\":\"english\"}])\n",
    "**`.append()`** method adds an item to the end of a list   \n",
    "```python\n",
    "party_list.append(\"Alton\")\n",
    "```"
   ]
  },
  {
   "cell_type": "markdown",
   "metadata": {},
   "source": [
    "# &nbsp;\n",
    "<font size=\"6\" color=\"#00A0B2\"  face=\"verdana\"> <B>Examples</B></font>"
   ]
  },
  {
   "cell_type": "code",
   "execution_count": null,
   "metadata": {},
   "outputs": [],
   "source": [
    "# [ ] review and run example\n",
    "# the list before append\n",
    "sample_list = [1, 1, 2]\n",
    "print(\"sample_list before: \", sample_list)\n",
    "\n",
    "sample_list.append(3)\n",
    "# the list after append\n",
    "print(\"sample_list after:  \", sample_list)"
   ]
  },
  {
   "cell_type": "code",
   "execution_count": null,
   "metadata": {},
   "outputs": [],
   "source": [
    "# [ ] review and run example\n",
    "# append number to sample_list\n",
    "print(\"sample_list start:  \", sample_list)\n",
    "sample_list.append(3)\n",
    "print(\"sample_list added:  \", sample_list)\n",
    "\n",
    "# append again\n",
    "sample_list.append(8)\n",
    "print(\"sample_list added:  \", sample_list)\n",
    "\n",
    "# append again\n",
    "sample_list.append(5)\n",
    "print(\"sample_list added:  \", sample_list)\n",
    "\n",
    "# [ ] run this cell several times in a row \n",
    "# [ ] run cell above, then run this cell again"
   ]
  },
  {
   "cell_type": "code",
   "execution_count": null,
   "metadata": {},
   "outputs": [],
   "source": [
    "# [ ] review and run example\n",
    "mixed_types = [1, \"cat\"]\n",
    "# append number\n",
    "mixed_types.append(3)\n",
    "print(\"mixed_types list: \", mixed_types)\n",
    "\n",
    "# append string\n",
    "mixed_types.append(\"turtle\")\n",
    "print(\"mixed_types list: \", mixed_types)"
   ]
  },
  {
   "cell_type": "markdown",
   "metadata": {
    "collapsed": true
   },
   "source": [
    "# &nbsp;\n",
    "<font size=\"6\" color=\"#B24C00\"  face=\"verdana\"> <B>Task 1</B></font>\n",
    "\n",
    "## `.append()`"
   ]
  },
  {
   "cell_type": "code",
   "execution_count": null,
   "metadata": {},
   "outputs": [],
   "source": [
    "# Currency Values\n",
    "# [ ] create a list of 3 or more currency denomination values, cur_values\n",
    "# cur_values, contains values of coins and paper bills (.01, .05, etc.)\n",
    "\n",
    "# [ ] print the list\n",
    "\n",
    "\n",
    "# [ ] append an item to the list and print the list\n",
    " \n",
    "cur_values = [.01, .05, .10, .25, .50, 1.00, 5.00, 10.00, 20.00, 50.00, 100.00]\n",
    "print(cur_values)\n",
    "cur_values.append(500.00)\n"
   ]
  },
  {
   "cell_type": "code",
   "execution_count": null,
   "metadata": {},
   "outputs": [],
   "source": [
    "# Currency Names\n",
    "# [ ] create a list of 3 or more currency denomination NAMES, cur_names\n",
    "# cur_names contains the NAMES of coins and paper bills (penny, etc.)\n",
    "\n",
    "# [ ] print the list\n",
    "\n",
    "\n",
    "# [ ] append an item to the list and print the list\n",
    " \n",
    "cur_names = [\"penny\", \"nickel\", \"dime\", \"quarter\", \"half dollar\", \"dollar\", \"five dollar bill\", \"ten dollar bill\", \"twenty dollar bill\", \"fifty dollar bill\", \"one hundred dollar bill\"]\n",
    "print(cur_names)\n",
    "cur_names.append(\"five hundred dollar bill\")\n"
   ]
  },
  {
   "cell_type": "markdown",
   "metadata": {
    "collapsed": true
   },
   "source": [
    "# &nbsp;\n",
    "<font size=\"6\" color=\"#B24C00\"  face=\"verdana\"> <B>Task 2</B></font>  \n",
    "## Append items to a list with `input()` "
   ]
  },
  {
   "cell_type": "code",
   "execution_count": null,
   "metadata": {},
   "outputs": [],
   "source": [
    "# [ ] append additional values to the Currency Names list using input()\n",
    "\n",
    "# [ ] print the appended list\n",
    "\n",
    "curr = input(\"Enter a name for a currency: \")\n",
    "cur_names.append(curr)"
   ]
  },
  {
   "cell_type": "markdown",
   "metadata": {},
   "source": [
    "# &nbsp;\n",
    "<font size=\"6\" color=\"#B24C00\"  face=\"verdana\"> <B>Task 3</B></font>\n",
    "## `while` loop `.append()`\n",
    "- define an empty list: **`bday_survey`**  \n",
    "- get user input, **`bday`**, asking for the day of the month they were born (1-31) or \"q\" to finish  \n",
    "- using a **`while`** loop  (while user not entering \"quit\")\n",
    "  - append the **`bday`** input to the **`bday_survey`** list  \n",
    "  - get user input, **`bday`**, asking for the day of the month they were born (1-31) or \"q\" to finish    \n",
    "- print bday_survey list  \n"
   ]
  },
  {
   "cell_type": "code",
   "execution_count": null,
   "metadata": {},
   "outputs": [],
   "source": [
    "# [ ] complete the Birthday Survey task above\n",
    "\n",
    "bday_survey = []\n",
    "bday = "
   ]
  },
  {
   "cell_type": "markdown",
   "metadata": {},
   "source": [
    "# &nbsp;\n",
    "<font size=\"6\" color=\"#B24C00\"  face=\"verdana\"> <B>Task 4</B></font>\n",
    "## Fix The Error\n"
   ]
  },
  {
   "cell_type": "code",
   "execution_count": 2,
   "metadata": {},
   "outputs": [
    {
     "name": "stdout",
     "output_type": "stream",
     "text": [
      "an item in the list is:  3\n"
     ]
    }
   ],
   "source": [
    "# [ ] Fix the Error\n",
    "three_numbers = [1, 1, 2, 3]\n",
    "print(\"an item in the list is: \", three_numbers[3])\n"
   ]
  },
  {
   "cell_type": "markdown",
   "metadata": {},
   "source": [
    "[Terms of use](http://go.microsoft.com/fwlink/?LinkID=206977) &nbsp; [Privacy & cookies](https://go.microsoft.com/fwlink/?LinkId=521839) &nbsp; © 2017 Microsoft"
   ]
  }
 ],
 "metadata": {
  "anaconda-cloud": {},
  "kernelspec": {
   "display_name": "Python 3",
   "language": "python",
   "name": "python3"
  },
  "language_info": {
   "codemirror_mode": {
    "name": "ipython",
    "version": 3
   },
   "file_extension": ".py",
   "mimetype": "text/x-python",
   "name": "python",
   "nbconvert_exporter": "python",
   "pygments_lexer": "ipython3",
   "version": "3.10.4"
  },
  "vscode": {
   "interpreter": {
    "hash": "26de051ba29f2982a8de78e945f0abaf191376122a1563185a90213a26c5da77"
   }
  }
 },
 "nbformat": 4,
 "nbformat_minor": 1
}
