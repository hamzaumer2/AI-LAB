{
 "cells": [
  {
   "cell_type": "markdown",
   "id": "884fa3c6",
   "metadata": {},
   "source": [
    "# Simple Reflexive Agent\n",
    "\n"
   ]
  },
  {
   "cell_type": "code",
   "execution_count": 5,
   "id": "f00e5377",
   "metadata": {},
   "outputs": [],
   "source": [
    "import random"
   ]
  },
  {
   "cell_type": "code",
   "execution_count": 51,
   "id": "11b60c15",
   "metadata": {},
   "outputs": [],
   "source": [
    "def rule_match(loc, state):\n",
    "    if state==1:\n",
    "        print(\"suck the dirt\")\n",
    "    elif loc==\"A\":\n",
    "        print(\"state is clean, move to B\")\n",
    "    elif loc==\"B\":\n",
    "        print(\"state is clean, move to C\")\n",
    "    elif loc == \"C\":\n",
    "        print(\"state is clean, move to D\")\n",
    "    elif loc == \"D\":\n",
    "        print(\"state is clean, move to E\")\n",
    "    elif loc == \"E\":\n",
    "        print(\"state is clean, move to F\")\n",
    "    else:\n",
    "        print(\"Invalid State\")\n"
   ]
  },
  {
   "cell_type": "code",
   "execution_count": 6,
   "id": "b4018c05",
   "metadata": {},
   "outputs": [],
   "source": [
    "def input_percept(loc, state):\n",
    "    rule_match(loc, state)"
   ]
  },
  {
   "cell_type": "code",
   "execution_count": 52,
   "id": "fd6c5d98",
   "metadata": {},
   "outputs": [
    {
     "name": "stdout",
     "output_type": "stream",
     "text": [
      "enter location from following: A, B, C, D, E\n",
      "enter state from following: 0 or \n",
      "suck the dirt\n"
     ]
    }
   ],
   "source": [
    "# location_available=[\"A\",\"B\"]\n",
    "# state_available=[0, 1]\n",
    "print(\"enter location from following: A, B, C, D, E\")\n",
    "loc= input().upper()\n",
    "print(\"enter state from following: 0 or \")\n",
    "state= int(input())\n",
    "input_percept(loc, state)\n"
   ]
  },
  {
   "cell_type": "markdown",
   "id": "e55315f9",
   "metadata": {},
   "source": [
    "### Reflexive Agent"
   ]
  },
  {
   "cell_type": "code",
   "execution_count": 30,
   "id": "0ec7a56b",
   "metadata": {},
   "outputs": [],
   "source": [
    "def goalTest(resultant_state, goal_state):\n",
    "    if resultant_state == goal_state:\n",
    "        return True\n",
    "    else:\n",
    "        return False\n"
   ]
  },
  {
   "cell_type": "code",
   "execution_count": 28,
   "id": "59dfc063",
   "metadata": {},
   "outputs": [],
   "source": [
    "def rule_action(loc, state_space):\n",
    "    if loc == \"A\":\n",
    "        if state_space[loc] == 1:\n",
    "            print(\"Sucking dirt in A...\\n\")\n",
    "            state_space[loc] = 0\n",
    "        else:\n",
    "            print(\"A is clean, moving to next location...\\n\")\n",
    "        return \"B\", state_space\n",
    "                   \n",
    "    elif loc == \"B\":\n",
    "        if state_space[loc] == 1:\n",
    "            print(\"Sucking dirt in B...\\n\")\n",
    "            state_space[loc] = 0\n",
    "        else:\n",
    "            print(\"B is clean, moving to next location...\\n\")\n",
    "        return \"C\", state_space\n",
    "        \n",
    "    elif loc == \"C\":\n",
    "        if state_space[loc] == 1:\n",
    "            print(\"Sucking dirt in C...\\n\")\n",
    "            state_space[loc] = 0\n",
    "        else:\n",
    "            print(\"C is clean, moving to next location...\\n\")\n",
    "        return \"D\", state_space\n",
    "        \n",
    "    elif loc == \"D\":\n",
    "        if state_space[loc] == 1:\n",
    "            print(\"Sucking dirt in D...\\n\")\n",
    "            state_space[loc] = 0\n",
    "        else:\n",
    "            print(\"D is clean, moving to next location...\\n\")\n",
    "        return \"E\", state_space\n",
    "        \n",
    "    elif loc == \"E\":\n",
    "        if state_space[loc] == 1:\n",
    "            print(\"Sucking dirt in E...\\n\")\n",
    "            state_space[loc] = 0\n",
    "        else:\n",
    "            print(\"E is clean, moving to next location...\\n\")\n",
    "        return \"F\", state_space\n",
    "    \n",
    "    elif loc == \"F\":\n",
    "        if state_space[loc] == 1:\n",
    "            print(\"Sucking dirt in F...\\n\")\n",
    "            state_space[loc] = 0\n",
    "        else:\n",
    "            print(\"F is clean, moving to next location...\\n\")\n",
    "        return \"A\", state_space\n",
    "\n"
   ]
  },
  {
   "cell_type": "code",
   "execution_count": 29,
   "id": "9004e733",
   "metadata": {},
   "outputs": [],
   "source": [
    "def get_percept(loc, state_space):\n",
    "    loc, state_space = rule_action(loc, state_space)\n",
    "    return loc, state_space"
   ]
  },
  {
   "cell_type": "code",
   "execution_count": 50,
   "id": "cf8746b0",
   "metadata": {},
   "outputs": [
    {
     "name": "stdout",
     "output_type": "stream",
     "text": [
      "Sucking dirt in B...\n",
      "\n",
      "Sucking dirt in C...\n",
      "\n",
      "D is clean, moving to next location...\n",
      "\n",
      "Sucking dirt in E...\n",
      "\n",
      "F is clean, moving to next location...\n",
      "\n",
      "Sucking dirt in A...\n",
      "\n",
      "The agent is in goal state:\n",
      "{'A': 0, 'B': 0, 'C': 0, 'D': 0, 'E': 0, 'F': 0}\n"
     ]
    }
   ],
   "source": [
    "state_space = {\"A\": 1, \"B\": 1, \"C\": 1, \"D\": 1, \"E\": 1, \"F\": 1} # start state\n",
    "goal_state = {\"A\": 0, \"B\": 0, \"C\": 0, \"D\": 0, \"E\": 0, \"F\": 0} # goal state\n",
    "goal = False\n",
    "path_cost = 0\n",
    "\n",
    "state_space[\"A\"] = random.choice([0, 1])\n",
    "state_space[\"B\"] = random.choice([0, 1])\n",
    "state_space[\"C\"] = random.choice([0, 1])\n",
    "state_space[\"D\"] = random.choice([0, 1])\n",
    "state_space[\"E\"] = random.choice([0, 1])\n",
    "state_space[\"F\"] = random.choice([0, 1])\n",
    "\n",
    "start_loc = random.choice([\"A\", \"B\", \"C\", \"D\", \"E\", \"F\"])\n",
    "\n",
    "while not goal:\n",
    "    goal = goalTest(state_space, goal_state)\n",
    "    if goal:\n",
    "        break\n",
    "    else:\n",
    "        start_loc, state_space = get_percept(start_loc, state_space)\n",
    "\n",
    "print(\"The agent is in goal state:\")\n",
    "print(state_space)"
   ]
  },
  {
   "cell_type": "markdown",
   "id": "a7a64627",
   "metadata": {},
   "source": [
    "### Random State"
   ]
  },
  {
   "cell_type": "code",
   "execution_count": 2,
   "id": "1ec2a7d1",
   "metadata": {},
   "outputs": [],
   "source": [
    "def random_agent():\n",
    "  percept()"
   ]
  },
  {
   "cell_type": "code",
   "execution_count": 3,
   "id": "22982a35",
   "metadata": {},
   "outputs": [],
   "source": [
    "def percept():\n",
    "   loc = input(\"enter location as A or B\")\n",
    "   state= int(input(\"enter state as 0 or 1\"))\n",
    "   action_rule(loc, state)\n"
   ]
  },
  {
   "cell_type": "code",
   "execution_count": 9,
   "id": "48c8430e",
   "metadata": {},
   "outputs": [
    {
     "name": "stdout",
     "output_type": "stream",
     "text": [
      "Agent moves to the right tile (B)\n",
      "New percept: location = B, state=0\n"
     ]
    }
   ],
   "source": [
    "def action_rule(loc, state):\n",
    "    actions = ['left', 'right', 'clean', 'no_action']\n",
    "    act = random.choice(actions)\n",
    "\n",
    "    if act == 'right':\n",
    "        loc = 'B' if loc == 'A' else 'A'\n",
    "        print(f\"Agent moves to the right tile ({loc})\")\n",
    "    elif act == 'left':\n",
    "        loc = 'A' if loc == 'B' else 'B'\n",
    "        print(f\"Agent moves to the left tile ({loc})\")\n",
    "    elif act == 'clean':\n",
    "        state = 0\n",
    "        print(f\"Agent cleans the current tile ({loc})\")\n",
    "    elif act == 'no_action':\n",
    "        print(\"Agent performs no action\")\n",
    "\n",
    "    print(f\"New percept: location = {loc}, state={state}\")\n",
    "    \n",
    "random_agent()"
   ]
  },
  {
   "cell_type": "code",
   "execution_count": null,
   "id": "194fc033",
   "metadata": {},
   "outputs": [],
   "source": [
    "\n",
    "\n",
    " "
   ]
  },
  {
   "cell_type": "code",
   "execution_count": null,
   "id": "27d19074",
   "metadata": {},
   "outputs": [],
   "source": []
  }
 ],
 "metadata": {
  "kernelspec": {
   "display_name": "Python 3",
   "language": "python",
   "name": "python3"
  },
  "language_info": {
   "codemirror_mode": {
    "name": "ipython",
    "version": 3
   },
   "file_extension": ".py",
   "mimetype": "text/x-python",
   "name": "python",
   "nbconvert_exporter": "python",
   "pygments_lexer": "ipython3",
   "version": "3.10.4"
  },
  "vscode": {
   "interpreter": {
    "hash": "26de051ba29f2982a8de78e945f0abaf191376122a1563185a90213a26c5da77"
   }
  }
 },
 "nbformat": 4,
 "nbformat_minor": 5
}
